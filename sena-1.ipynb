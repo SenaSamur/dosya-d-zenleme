{
 "cells": [
  {
   "cell_type": "code",
   "execution_count": null,
   "metadata": {},
   "outputs": [],
   "source": [
    "import pandas as pd \n",
    "from sklearn.tree import DecisionTreeClassifier\n",
    "from sklearn.model_selection import train_test_split\n",
    "from sklearn.metrics import accuracy_score\n",
    "from sklearn.externals import joblib    #tanımlamalarımı sürekli yapmamak için yazıyorum\n",
    " \n",
    "music = pd.read_csv('music.csv')\n",
    "X = music.drop(columns = ['genre']) #INPUT DATA SET\n",
    "Y = music ['genre'] #OUTPUT DATA SET BİZE SADECE SONUCLARI DÖNDÜRÜR\n",
    "X_train, X_test, Y_train, Y_test = train_test_split(X, Y, test_size=0.8)\n",
    "\n",
    "##Decision learn sklearn ile cagirilir\n",
    "\n",
    "model = DecisionTreeClassifier()\n",
    "model.fit(X_train, Y_train)\n",
    "\n",
    "joblib.dump(model, 'music-recommender.joblib')\n",
    "\n",
    "#predictions = model.predict([ [21, 1], [22,0] ]) #21 yasındaki erkekleri ve 22 yasındakı kadınların predicitionunu yapıyor.\n",
    "\n",
    "predictions = model.predict(X_test)\n",
    "\n",
    "\n",
    "#calculating model accuracy\n",
    "\n",
    "score= accuracy_score(Y_test, predictions) \n",
    "score"
   ]
  }
 ],
 "metadata": {
  "language_info": {
   "name": "python"
  },
  "orig_nbformat": 4
 },
 "nbformat": 4,
 "nbformat_minor": 2
}
